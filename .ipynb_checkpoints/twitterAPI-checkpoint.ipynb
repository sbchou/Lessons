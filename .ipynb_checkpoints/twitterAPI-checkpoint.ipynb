{
 "metadata": {
  "name": ""
 },
 "nbformat": 3,
 "nbformat_minor": 0,
 "worksheets": [
  {
   "cells": [
    {
     "cell_type": "markdown",
     "metadata": {},
     "source": [
      "For SM Machine Lab 1"
     ]
    },
    {
     "cell_type": "heading",
     "level": 3,
     "metadata": {},
     "source": [
      "Accessing the Twitter API\n"
     ]
    },
    {
     "cell_type": "markdown",
     "metadata": {},
     "source": [
      "Go to http://dev.twitter.com/apps/new to create an app and get values\n",
      "for these credentials, which you'll need to provide in place of these empty string values that are defined as placeholders.\n",
      "See https://dev.twitter.com/docs/auth/oauth for more information on Twitter's OAuth implementation."
     ]
    },
    {
     "cell_type": "code",
     "collapsed": false,
     "input": [
      "import twitter\n",
      "\n",
      "CONSUMER_KEY = 'SECRET'\n",
      "CONSUMER_SECRET ='SECRET'\n",
      "OAUTH_TOKEN = 'SECRET'\n",
      "OAUTH_TOKEN_SECRET ='SECRET'"
     ],
     "language": "python",
     "metadata": {},
     "outputs": [],
     "prompt_number": 3
    },
    {
     "cell_type": "code",
     "collapsed": false,
     "input": [
      "twitter_api = twitter.Api(consumer_key = CONSUMER_KEY, consumer_secret=CONSUMER_SECRET, access_token_key=OAUTH_TOKEN, access_token_secret=OAUTH_TOKEN_SECRET) \n",
      "print twitter_api\n",
      "# Nothing to see by displaying twitter_api except that it's now a\n",
      "# defined variable"
     ],
     "language": "python",
     "metadata": {},
     "outputs": [
      {
       "output_type": "stream",
       "stream": "stdout",
       "text": [
        "<twitter.api.Api object at 0x7f5c3ff9af10>\n"
       ]
      }
     ],
     "prompt_number": 4
    },
    {
     "cell_type": "heading",
     "level": 3,
     "metadata": {},
     "source": [
      "Word Frequencies Example!\n"
     ]
    },
    {
     "cell_type": "markdown",
     "metadata": {},
     "source": [
      "Let's do a simple example: looking at what words a Twitter user likes using. \n",
      "First, we need to look up the User's ID."
     ]
    },
    {
     "cell_type": "code",
     "collapsed": false,
     "input": [
      "users = twitter_api.UsersLookup(screen_name=['bostonglobe'])\n",
      "globe_id = users[0].GetId()\n",
      "print globe_id"
     ],
     "language": "python",
     "metadata": {},
     "outputs": [
      {
       "output_type": "stream",
       "stream": "stdout",
       "text": [
        "95431448\n"
       ]
      }
     ],
     "prompt_number": 12
    },
    {
     "cell_type": "markdown",
     "metadata": {},
     "source": [
      "Now let's get the User's Timeline:"
     ]
    },
    {
     "cell_type": "code",
     "collapsed": false,
     "input": [
      "my_timeline = twitter_api.GetUserTimeline(globe_id, count=200) #max for public is 200!\n",
      "last_post = my_timeline[0]\n",
      "print last_post.GetText()"
     ],
     "language": "python",
     "metadata": {},
     "outputs": [
      {
       "output_type": "stream",
       "stream": "stdout",
       "text": [
        "Boston College faces inquiry over accessibility of campus http://t.co/AypllXujEk http://t.co/mehW07pS56\n"
       ]
      }
     ],
     "prompt_number": 14
    },
    {
     "cell_type": "code",
     "collapsed": false,
     "input": [
      "tweets = [t.GetText() for t in my_timeline]\n",
      "for t in tweets: print t"
     ],
     "language": "python",
     "metadata": {},
     "outputs": [
      {
       "output_type": "stream",
       "stream": "stdout",
       "text": [
        "Boston College faces inquiry over accessibility of campus http://t.co/AypllXujEk http://t.co/mehW07pS56\n",
        "New report about #Patriots and #Deflategate creates more questions than it answers, @BenVolin says http://t.co/t9szRFJH1b\n",
        "Pablo Sandoval, Hanley Ramirez glad to team up with #RedSox http://t.co/Rkp4npQf99\n",
        "Court puts immigrants\u2019 residency applications and hopes on hold http://t.co/2zMi5vTzSw\n",
        "RT @GlobeOpinion: .@rnicholasburns: A resolute US can win struggle with Putin #foreignpolicy http://t.co/AHAgfoI3VT http://t.co/53svMpVhpP\n",
        "#MBTA officials say their timeline includes \u201cincremental\u201d restoration of service http://t.co/TGTuw5L58W http://t.co/SguWOLVbtD\n",
        "Legislative efforts in Mass. to fix #MBTA may come slowly http://t.co/QLcJ2zPWGf\n",
        "#Patriots locker room attendant is eyed in #Deflategate, report says http://t.co/t9szRFJH1b\n",
        "In battling snowstorms, Boston has plowed more than 283,000 miles http://t.co/0XnfpTmR2L\n",
        "PHOTO: Icicles hung from buildings on Beacon Street  More: http://t.co/kON7nCU15x http://t.co/B0gLL8Humz\n",
        "Cam Neely losing patience with #Bruins after fourth straight loss http://t.co/R0zmij44gc http://t.co/YW4Pnqntwm\n",
        "Resending: Commuters waited for trains at North Station in Boston Tuesday http://t.co/L2Fm1Lkyxc http://t.co/iQjhCE6bmL\n",
        "Food editor @sheryljulian on returning bad produce  http://t.co/DjYjpMfJPI http://t.co/MpuCmQ3E6c\n",
        "PHOTO: Commuters waited for trains at North Station in Boston Tuesday amid delays http://t.co/LOKJRVK9Lr http://t.co/zvuZ8n85CR\n",
        "Boston Marathon course, Charles River both considered substandard for Olympic events  http://t.co/uOlaqGBPi3 http://t.co/z5RXGpO3PL\n",
        "With Tuesday's snow in Boston, this season is tied for second-snowiest all-time at 96.3 inches, @NWSBoston says http://t.co/elLBH9xrdQ\n",
        "\"Book of Negroes\" takes footnote from the Revolutionary War and turns it into engrossing drama http://t.co/HAZi1Zm8EO http://t.co/UMk7dATjJA\n",
        "For those who want fresh and natural food in the winter, weekly shopping trips may not be the best strategy http://t.co/CkY1Ejjvn3\n",
        "Cam Neely losing patience with Bruins  http://t.co/MqsYKj2fAT http://t.co/Zq13W7ws9n\n",
        "Alex Rodriguez issues handwritten apology to fans http://t.co/RUVqhWRWaQ http://t.co/HypmlrcVL8\n",
        "MT @AdamHimmelsbach: I spoke to 3 NBA GMs about what the Celtics could do as trade deadline nears http://t.co/qKFeWNapot\n",
        "Malden entrepreneur uses 3D printers to make sandstone sculptures  http://t.co/IShB1XS3Ao http://t.co/2yUmnVIaaR\n",
        "RT @markpothier: Shake Shack plans to shake up Japan. #ShakeShack.\n",
        "http://t.co/m9aP763Taj\n",
        "Get #MBTA going again before long-term discussions, @MassGovernor Charlie Baker says http://t.co/lo0pFNfFNr http://t.co/yGFBOcaHfY\n",
        "Lawmakers to push for more job training, work for welfare recipients http://t.co/5QoP1bz8nz #mapoli\n",
        "Album review from @GlobeJamesReed: @THEKATEPIERSON, \u2018Guitars and Microphones\u2019 http://t.co/Xkti9lgvR5 http://t.co/I0US1fFPve\n",
        "Tara Holm in @GlobeOpinion on the real reason why the US is falling behind in math #edureform http://t.co/MuLFPM6UGI http://t.co/ajSGsJDkps\n",
        ".@nickcafardo takes a look at how the #RedSox will try to handle a crowded outfield  http://t.co/lrjYHGvImk http://t.co/bXdqjcKxtl\n",
        "Address: What's it like to live in Richmond?  http://t.co/HuDBZc3NPf http://t.co/OYGxbxcS1U\n",
        "Seahawks receiver Doug Baldwin apologizes for tasteless stunt at the Super Bowl http://t.co/Xc06Cgf25m\n",
        "More than 30 #MBTA commuter rail trains were canceled Tuesday afternoon \u201cdue to ongoing snow issues\u201d http://t.co/wxDHo4Stx0\n",
        "Punxsutawney Phil at center of faux feud between N.H. police and @Gunstockmtn ski resort  http://t.co/aBd2cD9N4V http://t.co/aQXYfGKDpH\n",
        "Defenseman Kevan Miller reinjured his right shoulder and won't be with the Bruins for the rest of their road trip. http://t.co/uP6kkqQ8dR\n",
        "VIDEO: As Boston digs out, here's the unofficial space-saver rules from a #Southie resident  http://t.co/MYhPpi8LEi http://t.co/b8OCT13mO4\n",
        "Mayor @marty_walsh announced that Boston\u2019s snow emergency and parking ban will end Wednesday at 6 p.m http://t.co/plewev09Ho #BOSnow\n",
        "Museum that houses the National Toy Hall of Fame announced the creation of the World Video Game Hall of Fame http://t.co/w2frZ7kU9o\n",
        "Alex Rodriguez issues a handwritten apology to #Yankees fans, fails to detail any specifics  http://t.co/Y10YPVu5Bq http://t.co/PrxOSqK8wv\n",
        "LIVE VIDEO: @MassGovernor Charlie Baker to discuss ongoing cleanup from snowstorms http://t.co/076UcavV32 #BOSnow #MAsnow\n",
        "Match Book: Have a book problem? We have the solution. http://t.co/A3Kv7ZUhvx http://t.co/N0Ze1kePw7\n",
        "RT @GlobeMusic: .@GlobeJamesReed: Lesley Gore on a pivotal year and a breakthrough anthem http://t.co/hMEciaAt9A http://t.co/eGc7vSiAxj\n",
        "Recipe for spicy whole yellow pea soup with lamb http://t.co/mCD8Z2dm1e http://t.co/dUSWZxhGM6\n",
        "Album review: @Imaginedragons, \u2018Smoke +Mirrors\u2019 http://t.co/8PtlGdCmVV http://t.co/oQykZyJsoR\n",
        "RT @RachelGBowers: .@nickcafardo's Red Sox Mailbag: http://t.co/PGHj083OJM http://t.co/85Ot5TU8Nk\n",
        "In wake of federal court ruling, agency halts preparations for program to protect immigrants from deportation http://t.co/yiiQzr2uLK\n",
        "Book review: \u2018Find Me\u2019 by @Lvandenberg http://t.co/1MRUoK0xNf\n",
        "Kate Matrosova, a New York-based trader for BNP Paribas, died during a hike in the N.H. mountains http://t.co/M0RoyNPGkf\n",
        "RT @GlobeCullen: Musings amid the snow http://t.co/ayCp6XV3NM\n",
        ".@TyBurr @MeredithGoldste chose favorite romantic first encounters on film and readers voted http://t.co/fPFqtpX9m8 http://t.co/bcvP85fwsE\n",
        "Video: Army band plays \"Here Comes the Sun\" atop a snow bank http://t.co/6UlP2naZUH\n",
        "Partners HealthCare System is withdrawing its bid to acquire South Shore Hospital, according to source http://t.co/78TMhZLNNE\n",
        "Album review: @julianahatfield, \u2018Whatever, My Love\u2019 http://t.co/Xm1D63SOWa http://t.co/DHFKAxNiLg\n",
        "Firefighters battle three-alarm fire in Brookline http://t.co/wBTREsjfBR\n",
        "RT @GlobeDataDesk: Where young adults live in the Boston suburbs: http://t.co/xTkTKlADUA #GenBoston http://t.co/KqBvBpV99G\n",
        "Alex Rodriguez issues hand-written apology to fans. http://t.co/LVSsaewAlE http://t.co/NvzAy0jlJJ\n",
        "The #MBTA\u2019s long, winding, infuriating road to failure  http://t.co/o0qZZCiKj1 http://t.co/xTSCYXW9kq\n",
        "RT @jonchesto: Athletic specialists say improper use of fitness gadgets such as GPS watches can hinder rather than help http://t.co/teS22Em\u2026\n",
        "A Bob Marley concert from 1978 at Boston's Music Hall marks the reggae legend\u2019s 70th birthday  http://t.co/xwPxgKNLQ1 http://t.co/oEY00zyquD\n",
        "What\u2019s the proper etiquette when using a parking space-saver? http://t.co/PfejHIdeno  #bosnow http://t.co/gy8ulTSfLb\n",
        "Greenbush Line service was suspended this morning after a train became stuck on the tracks overnight http://t.co/n3lZtEEXbV #MBTA\n",
        "Man created black ice on roadway to mask drunken driving crash, police say \n",
        " http://t.co/CgX6vApSX0\n",
        "RT @callumborchers: How's the maddening Boston commute affecting operations at your company? Can you take another month? E-mail us: callum.\u2026\n",
        "In bid to stop seniors from leaving the state, R.I. lawmakers push to end tax on retirement income http://t.co/YLkJfYUYgV\n",
        "Fatal Tewksbury shooting under investigation by Middlesex District Attorney's office http://t.co/XnpzFo0x1i\n",
        ".@Drake surprises fans with sneak-release album http://t.co/VRv7WaOXkJ http://t.co/kimkCD5QAO\n",
        "Israeli Prime Minister Benjamin Netanyahu facing allegations of possible financial malfeasance at official residence http://t.co/6sMdSQKXwT\n",
        "Video: http://t.co/GOXjqT8khn RT @TAGlobe: Elliott IDs blueish stain on casing, apparently gum residue #AaronHernandezTrial\n",
        "Exports of US lobster to China have rocketed in the past few years http://t.co/3q8D7l1IDR http://t.co/ErFQbhiNEq\n",
        "RT @TAGlobe: fotos of safe now on CR monitor #AaronHernandezTrial\n",
        "Romance rumble: The winner! Readers pick their favorite \u2018meet-cute\u2019 http://t.co/Qsplq3d1wI http://t.co/ZWc3u0qeCI\n",
        "5 taken to hospital after carbon monoxide incident at Worcester hookah lounge http://t.co/yNatFLV2pM\n",
        "New Defense Secretary Ashton Carter vows to protect troops\u2019 safety, dignity \n",
        " http://t.co/gjDupvAFCs http://t.co/HkA83Qfomr\n",
        "Islamic School in R.I. defaced with anti-Muslim messages http://t.co/qk7RzJjg9Q\n",
        "The #MBTA reached for expansion, even as its core deteriorated  http://t.co/uqb7eUbU7C http://t.co/1zfvK0fgNk\n",
        "Billerica police and firefighters rescue 62-year-old man who was trapped inside his home after roof collapses http://t.co/XvKBSOvF4o\n",
        "Boston Marathon course, Charles River both considered substandard for Olympic events (corrects typo) http://t.co/5dFx25WlZs\n",
        "Video: http://t.co/J53IhDlVVc RT @TAGlobe: jurors now viewing vid of Hernandez calling on 2nd fone, w/his phone in pieces on his lap\n",
        "Boston Marathon course, Charles Rover both considered substandard for Olympic events  http://t.co/KUfJmcAyyz http://t.co/ABskoyccCQ\n",
        "A person was fatally shot this morning in Tewksbury during a confrontation with police, official says http://t.co/Z6fBCboaYd\n",
        "#BookofNegroes on @BET turns a Revolutionary War footnote into an engrossing drama http://t.co/5YUfKEdKu0 http://t.co/Yc0FhBaVvH\n",
        ".@JohnLAllenJr: Hard truths about the survival of Christianity in the Middle East http://t.co/XaoovUdUos via @Crux\n",
        "Watch live video: http://t.co/aqfh7BaUBd RT @TAGlobe: we're back #AaronHernandezTrial\n",
        "With most of state seeing 1 - 2 inches, snowstorm today will be a relative \"nuisance\" http://t.co/fwTjLyYGKC http://t.co/fmKLhLvz66\n",
        "More than 20 commuter rail trains are canceled Tuesday afternoon \u201cdue to snow issues,\u201d #MBTA says http://t.co/9TvoMleIHb\n",
        "ICYMI: @snl40 anniversary special a tribute 40 years in the making, @GlobeRodman http://t.co/WrnopCKr6f http://t.co/J5pyGrDhrw\n",
        "Maine authorities have found two 15-year-old Rhode Island boys who went missing after setting out on a snowmobile http://t.co/W29Ygs9LGE\n",
        "Amid endless snowstorms, snow blower owners are feeling the power  http://t.co/xQw8TH1yDc http://t.co/CD6JDlSxJt\n",
        ".@kcbaskin: Josephine, Restaurant Parisien to open in #Kenmore Square #Boston http://t.co/4JzecgnYTo\n",
        "RT @GlobeDataDesk: Where young adults live in the Boston suburbs: http://t.co/bvTyiwPhBN #GenBoston http://t.co/43g4Vwi2on\n",
        "RT @TAGlobe: Elliott says Hernandez used phone, laid down on floor in interview room #AaronHernandezTrial\n",
        "Priest prays for reprieve: \"enough with the snow already,\u201d  http://t.co/cuCKEqFKtE http://t.co/nuUS6bQEJj\n",
        "RT @GlobeCullen: Musings amid the snow http://t.co/52D90lxal8 via @BostonGlobe\n",
        "Live video: Testimony has resumed in the #AaronHernandez murder trial today  http://t.co/PjgCRTQFRX http://t.co/ZVsP65UQhz\n",
        "RT @GlobeOpinion: .@CatoInstitute research fellow Benjamin H. Friedman: Ashton Carter must pivot on spending http://t.co/E1LDDJKIJd http://\u2026\n",
        "RT @BostonGlobeArts: Did you know Miss Clavel wasn't a nun?This and other #Madeline surprises: http://t.co/rWR8Kbfw3T http://t.co/k9qI2PLjCX\n",
        "The #MBTA story is a decades-long tale of grand ambitions and runaway costs  http://t.co/lG28Df0xlF #longreads http://t.co/diOsLT7nFW\n",
        "A federal judge temporarily blocked President Obama\u2019s executive action on immigration  http://t.co/QDZHJlI1BN http://t.co/pWd3qq8Fkq\n",
        "Clickworthy by @MBrodeur : Previously known as @RapGenius, the newly minted @Genius is reborn http://t.co/tJWPbMEpAX http://t.co/rb14d5nASC\n",
        "With potentially 30 days until full service, #MBTA commuters continue to face hurdles  http://t.co/vfSF3g2PQk http://t.co/XW0sdJTn7R\n",
        "Fashion on film with Neville, Wainwright of @rag_bone http://t.co/ENpyhUdm7v http://t.co/bVDU3j37zz\n",
        ".@adamhimmelsbach: The #Celtics are in a unique position as trade deadline nears  http://t.co/4CSKzgl8sy http://t.co/MjTXAdbB0A\n",
        "Snow blower wranglers love the feeling of control they have over storms  http://t.co/Qzp21Oy9UU http://t.co/R74ZL8L71w\n",
        "Marathon course, Charles River considered substandard for #Olympic events  http://t.co/JII0zd5PcU #Boston2024 http://t.co/csnjKT5XRx\n",
        "Ipswich firefighters had to dig out hydrants in order to battle a three-alarm blaze  http://t.co/oZEEiwNey3 http://t.co/QctogAvNr2\n",
        "Today's Globe: Full MBTA service may be month away; Church taps land to ease finances; More: http://t.co/XYZw4NZVkY http://t.co/okiPOX2UxQ\n",
        "Relatively weak storm will pass southeast of N.E. today, generating light to moderate snow  http://t.co/iR1N5M1XEN http://t.co/AeHhJrr5Xs\n",
        "Kaspersky Lab's discovery of one of history's biggest bank heists shows it's a major player in cybersecurity industry http://t.co/4pRKo7E0tD\n",
        "AG Maura Healey joins calls to forgive student debt incurred at for-profit schools accused of deceptive practices. http://t.co/9zzeuvk5pa\n",
        "Commuter updates: #MBTA providing limited rail, subway, and bus service today http://t.co/raGjAMzl2v\n",
        "RT @GlobeOpinion: John E. Sununu: How fight over school lunch will shape America\u2019s future #thanksMichelleObama http://t.co/PMmgRsZjH6 http:\u2026\n",
        "Testimony resumes today in the murder trial of former Patriots star #AaronHernandez  http://t.co/drdMwbJgSt http://t.co/ZCldN1SknK\n",
        "Photos of $3 million homes in Boston http://t.co/j6XJRnOP2z http://t.co/xksJAQrGtQ\n",
        "BREAKING: Firefighters battle three-alarm fire in Ipswich http://t.co/oK7Kzad0d0\n",
        "Collapse of snow-covered Saugus roof last night prompts temporary evacuation of 12 people. http://t.co/Ndj0JfMx3z\n",
        "Rockland Trust fulfills a long quest to operate in Boston. http://t.co/ZndCLqckSa http://t.co/Lc6AosBqpo\n",
        "Cardinal O'Malley outlines new approach to accountability for sexual abuse of children. http://t.co/oTw08vcyKB http://t.co/ZyzMGFFRZn\n",
        "Critics don't budge Jeb Bush from backing Common Core education standard http://t.co/lcAegba55i http://t.co/x7gj6OaikX\n",
        "President Obama's immigration initiatives suffer setback as federal judge imposes temporary injunction on programs. http://t.co/XRmEdIwt7x\n",
        "Archdiocese attempting to leverage underused church real estate to pay for its ministries. http://t.co/7dHgS53WoB http://t.co/xpWhKTlUJK\n",
        "Marathon, Head of the Charles courses don't meet Olympic standards and couldn't be used if Boston hosted in 2024. http://t.co/M26jDHjNE4\n",
        "As envious neighbors watch, snow blower owners feel the power of easier snow removal.  http://t.co/35HlYYdPxw http://t.co/jE1Oy1os2Q\n",
        "Until recently, @GlobeCullen never knew he lived in a place with so many experts on snow removal. http://t.co/CRHXWohpnm\n",
        "Another big storm could push the return date of full MBTA service to beyond a month away. http://t.co/da7DpYDREx http://t.co/ON8QoHNawL\n",
        "Today's winter storm could bring 1-2 inches of snow to the Boston area. http://t.co/C2wi7QYijj  #Bosnow http://t.co/nwgN33Gw0p\n",
        "Today's Globe: Full MBTA service may be month away; Church taps land to ease finances; More: http://t.co/lckYWzpIYW http://t.co/sLpdzcbnt3\n",
        "12 people evacuated after roof collapses at auto garage in Saugus http://t.co/WRJWpN3GIO\n",
        "He's 24 and jobless and he won't leave home. What's a parent to do? http://t.co/V6Us4CTStP\n",
        "#Bruins give up three-goal lead, lose to #Flames, 4-3, in overtime http://t.co/N6ABkUl2V5 http://t.co/P6VT7KTpIn\n",
        "Conservatives despise Common Core, and that hasn't swayed Jeb Bush http://t.co/z4dnp17ynB\n",
        "Lance Armstrong on losing side in $10 million fraud case http://t.co/TijdJdX2cS http://t.co/iHV1CxNt2c\n",
        "New federal policy could reunite immigrant parents and their children still in home countries http://t.co/O5WGhMDg1J\n",
        "Amid cold temperatures and historic snow, Boston Mayor Martin Walsh asks for patience http://t.co/NHhZRXf3RH\n",
        "Boston Catholic archdiocese experiments with developing real estate http://t.co/GsRjhUzrwK http://t.co/lglAcdtUgX\n",
        "#MBTA plans limited service Tuesday and may need 30 days to return to full service http://t.co/n6xytOtEmh http://t.co/4dbYH4JLCH\n",
        "Police rescue woman whose car landed in Quaboag River http://t.co/t0tm4vTgnm http://t.co/Eq65cWPblv\n",
        "More cheaters use handicapped parking than you\u2019d think http://t.co/LIduMaAu0H http://t.co/zn1Vv3lE2w\n",
        "Common Core is toxic among conservatives, but Jeb Bush is steadfast in support of it http://t.co/z4dnp17ynB http://t.co/YrEreEgUsb\n",
        "See a temperature map to find out how cold it is in your town #BOsnow #MAsnow http://t.co/dxkQckMd4i http://t.co/0cJTfYRqcO\n",
        "With Hanley Ramirez, the new left fielder for the #RedSox, health is a big question http://t.co/DhqvZ5Ms8J http://t.co/F6SSyQkstg\n",
        "1 to 2 inches of snow expected in eastern Mass. Tuesday, 3 to 4 inches on Cape; cold temperatures this week http://t.co/91LfCMTdms\n",
        "#Celtics in unique position as trade deadline approaches http://t.co/2nuC7pCCE3 http://t.co/CsmuAWTsGH\n",
        "Animal shelters and humane societies won\u2019t condemn you for bringing an animal you don\u2019t want http://t.co/Ja2vdgY0LF\n",
        "'This last round really crippled our infrastructure and our vehicle fleet,' #MBTA's Beverly Scott said http://t.co/n6xytOc2XH\n",
        "If 'we don\u2019t get hit with another storm like the last one, [#MBTA] will be back in 30 days,' Beverly Scott said http://t.co/n6xytOtEmh\n",
        "#Recipe for white-chocolate chip cookies with cherries http://t.co/og50OvRya4 http://t.co/VSYEUpazxv\n",
        "Travel: On a granddaughters\u2019 Dream cruise http://t.co/qSoK6Ddnb3 http://t.co/k0pDqV4NLw\n",
        ".@GlobeRodman: The epic 40th anniversary stroll down memory lane was much like an episode of #SNL itself http://t.co/cOuEmiPv3X\n",
        ".@nickcafardo: Last thing a team wants is a $200 million roster but a 10-cent bullpen  http://t.co/FpfUng3ADJ http://t.co/543e1Bxi9S\n",
        "The #Patriots did not use their franchise tag in 2013 or \u201914, but it seems likely they will use it this year http://t.co/zQWSVg4Z8Y\n",
        "BREAKING: #MBTA won't be back to full service for up to 30 days #BOsnow #MAsnow http://t.co/n6xytOtEmh\n",
        "Forecasters now say 1 to 2 inches of snow expected in eastern Mass. on Tuesday, with 3 to 4 inches on Cape Cod http://t.co/91LfCMTdms\n",
        "Firefighters face frozen hydrant in two-alarm blaze in Jamaica Plain http://t.co/TZzW1c3yXx\n",
        "Las Vegas retired teachers donates $25 to help with Boston snow removal http://t.co/AFEmES2Vrl http://t.co/4m7I8A6j4R\n",
        "Logan airport close to fully operational, with some delays http://t.co/rOjkrbBfSt\n",
        "#MBTA says it will offer limited service Tuesday #BOSnow #MASnow http://t.co/n6xytOtEmh http://t.co/0burDcBvPZ\n",
        "Most of week will see high temps in the teens and low 20s, and lows in the single digits or below zero http://t.co/Kpb9jS5EvP #BOSnow\n",
        ".@billy_baker: South End space-saver practice continuing, as is traditional method of enforcement \u2014 street justice http://t.co/HhQu4yjBv2\n",
        ".@Dan_Shaughnessy: Is Larry Lucchino losing a power struggle at Fenway?  http://t.co/lj1cif0SwC #RedSox http://t.co/il6BkMvsUs\n",
        "Suspect indicted on three counts of murder in North Carolina shooting of three young Muslims  http://t.co/RWmsiUMKgA http://t.co/nIkceldkDY\n",
        "Hershey angering devotees, vendors over bid to block @CadburyUK from being shipped to US  http://t.co/4rW1nFivso http://t.co/6XPigcgCOB\n",
        "Readers picked \"When Harry Met Sally\" as their favorite \"meet-cute\" moment on film  http://t.co/ngiO4PmhRY http://t.co/TGNJ45KABK\n",
        "A snow plow struck a pedestrian in Roslindale Monday afternoon, officials said http://t.co/iNNnlrb847\n",
        "Bruins plan to recall goaltender Malcolm Subban. http://t.co/gRmdjzzwLY via @AmalieBenjamin http://t.co/hyXbHWQQu0\n",
        "#MBTA official said no decisions have been made about service Tuesday  http://t.co/5Q63khW6Ji http://t.co/N4dGa6MOae\n",
        ".@MassStatePolice rescued a woman who drove into the Quaboag River in Palmer  http://t.co/ugkXeiZSQV http://t.co/3yoTOXSkin\n",
        ".@JoannaWeiss: It's the stuff, not the sex, that's the real appeal of #FiftyShades  http://t.co/xSsBoW2Afk http://t.co/okSBjrSfmD\n",
        "Egypt carried out airstrikes against #ISIS targets in neighboring Libya on Monday  http://t.co/Bg7kRwUz6q http://t.co/4w6OQzcbpd\n",
        "Despite a ban on space savers, the practice is continuing in the South End  http://t.co/A2QB21sybj http://t.co/J1WjDMsw0k\n",
        ".@Dan_Shaughnessy: Rumblings indicate chain of command at Yawkey Way may be changing http://t.co/v51v4fcd3f #RedSox\n",
        "The wall between church and state can erode both, writes James Carroll  http://t.co/llK3kuohO5 http://t.co/c1dWtVJXqL\n",
        "#MBTA's story is, in some respects, a tale of opportunities \u2014 a few seized and many missed http://t.co/xSjJM1mEiZ http://t.co/jvGONezJG3\n",
        "Devin McCourty, Stephen Gostkowski likely candidates for Patriots' franchise tag. http://t.co/0A2iojbJFl http://t.co/i6D4KpANrU\n",
        ".@GlobeRodman: The oft-meta and self-congratulatory #SNL special was an entertaining affair  http://t.co/l44v5kDDNT http://t.co/OQcrfsy6JH\n",
        "Parenting: My 24-year-old is unemployed and at home. What should I do?  http://t.co/MQLEHHqXaX http://t.co/RWBcXa6nZl\n",
        ".@nickcafardo: #RedSox need someone from bullpen to emerge that they didn\u2019t expect  http://t.co/TFdx4odEz6 http://t.co/dhQN8IX4pg\n",
        "Amar\u2019e Stoudemire has agreed to a buyout of his contract with the #Knicks  http://t.co/mKM1Vk5BRO http://t.co/LamwTcX3iN\n",
        "In snarled traffic circles and icy intersections, we are angling for every inch. And lately, the biggest jerk wins http://t.co/RV84Vctczr\n",
        "A man and a woman died in an overnight fire in Waltham, officials said Monday http://t.co/2iUQNNUcbe\n",
        "The #MBTA is only operating at underground stations, and there is limited service on all lines, the agency said http://t.co/kUqmymSkKf\n",
        "RT @RachelGBowers: .@Dan_Shaughnessy: Are Red Sox shifting away from Larry Lucchino? http://t.co/ZPmPPs7z4H http://t.co/ctDIz9L1vh\n",
        "Many discard unwanted pets even though shelters, humane societies exist to save such animals  http://t.co/vqOgqtQCKv http://t.co/dz4o1zcEYs\n",
        "Mayor @marty_walsh says Boston's parking ban in effect until further notice  http://t.co/GAz2XdJLHZ #BOSnow http://t.co/Wy7W87NPW5\n",
        "MT @kcbaskin: My 24-year-old is unemployed and at home. What  should I do? http://t.co/zoHcmD1K6a @djmogo #millennials\n",
        "Travel photos: It was so cold that the Polar Plunge in Gray, Maine was canceled http://t.co/v3REg54jaA http://t.co/nnj1uPjwO0\n",
        "\u2018SNL\u2019 40th anniversary celebration a \u2018who\u2019s who\u2019 of comedy #SNL40 http://t.co/sHG01qIjii\n",
        "Hershey facing backlash after bid to ban @CadburyUK shipments to the US  http://t.co/mxGRid2IwU http://t.co/SSD4jyjhCX\n",
        "The true story of the #MBTA breakdown is not one of sudden failure  http://t.co/Enxcrn2WZ4 http://t.co/JJYXROFCp5\n",
        "Tuesday storm could bring up to 6 more inches of snow to parts of Mass.  http://t.co/kFsRHaVaTq http://t.co/EUnjapu3ut\n",
        "More snow is headed for the region Tuesday, starting in the early hours, forecasters said  http://t.co/oh4Iyrbquc http://t.co/tofHujIrxN\n",
        "Six worthy nominees Oscar overlooked http://t.co/g4tisnW99H http://t.co/HkUxTSifc4\n",
        "LIVE VIDEO: Mayor @marty_walsh asking residents to remain patient with snowstorm cleanup in Boston http://t.co/OZ9E0qmdch\n",
        "#WhiteyBulger's girlfriend may face more prison time for refusing to testify to grand jury  http://t.co/evVasx6cw5 http://t.co/BmHAV5Gs5I\n",
        "LIVE VIDEO: Mayor @marty_walsh giving update on storm cleanup in Boston http://t.co/oy7DiPQHbY\n",
        "Wind gusts expected to make subzero temps feel as low as minus 30 in some areas this morning  http://t.co/bFVXFgD55j http://t.co/FVI15xGJrS\n",
        "RT @BenVolin: ICYMI: My Sunday NFL column breaks down the big names across the league that could become salary cap casualties http://t.co/T\u2026\n",
        "For a dog owner in the winter, the stress is enormous. Here's how to make walks easier:  http://t.co/UAVnxCD8Mg http://t.co/9cbBaMH0y1\n",
        "Decluttering guru Marie Kondo bringing message of only keeping objects that \u201cspark joy\u201d  http://t.co/jKvvIv8Hax http://t.co/VoIhKlNS7c\n",
        "Bitterly cold temperatures are here to stay and more snow is on the way for Mass:  http://t.co/JJVy0Eg9rJ http://t.co/X0jEqs29D9\n",
        "In today's Globe: More snow, intense cold compound the misery; UMass key in Olympic bid; More: http://t.co/4T82HVZSCR http://t.co/Fo3eehP4aE\n",
        "How cold is it in your town or city this morning? Check our map and find out:  http://t.co/wpbDJpr23w http://t.co/mZrLF9idnl\n",
        "Recent snow has made the once-simple task of delivering Meals on Wheels an arduous challenge. http://t.co/oRorMFOLSl http://t.co/1IWfJrVsyD\n"
       ]
      }
     ],
     "prompt_number": 15
    },
    {
     "cell_type": "markdown",
     "metadata": {},
     "source": [
      "Now let's get counting:"
     ]
    },
    {
     "cell_type": "code",
     "collapsed": false,
     "input": [
      "from collections import Counter\n",
      "bag_o_words = [word for tweet in tweets for word in tweet.strip().split()]\n",
      "Counter(bag_o_words).most_common()[:10]"
     ],
     "language": "python",
     "metadata": {},
     "outputs": [
      {
       "metadata": {},
       "output_type": "pyout",
       "prompt_number": 16,
       "text": [
        "[(u'to', 68),\n",
        " (u'the', 66),\n",
        " (u'in', 64),\n",
        " (u'of', 51),\n",
        " (u'a', 42),\n",
        " (u'and', 35),\n",
        " (u'on', 33),\n",
        " (u'for', 28),\n",
        " (u'snow', 22),\n",
        " (u'is', 22)]"
       ]
      }
     ],
     "prompt_number": 16
    },
    {
     "cell_type": "markdown",
     "metadata": {},
     "source": [
      "Hmm, this has a lot of words that are common and not that tell-tale. Let's clean it up! Stopwords are words that are common and removed from our corpus. Here we use the one from python's NLTK library, but you can find many other lists, and just copy and paste (here's one! https://github.com/arc12/Text-Mining-Weak-Signals/wiki/Standard-set-of-english-stopwords)"
     ]
    },
    {
     "cell_type": "code",
     "collapsed": false,
     "input": [
      "from nltk.corpus import stopwords\n",
      "bag_o_words = [word.lower() for tweet in tweets for word in tweet.strip().split() if word.lower() not in stopwords.words('english')]   \n",
      "Counter(bag_o_words).most_common()[:10]"
     ],
     "language": "python",
     "metadata": {},
     "outputs": [
      {
       "metadata": {},
       "output_type": "pyout",
       "prompt_number": 19,
       "text": [
        "[(u'snow', 23),\n",
        " (u'rt', 20),\n",
        " (u'boston', 19),\n",
        " (u'#mbta', 16),\n",
        " (u'service', 12),\n",
        " (u'says', 9),\n",
        " (u'#bosnow', 9),\n",
        " (u'video:', 9),\n",
        " (u'live', 8),\n",
        " (u'tuesday', 8)]"
       ]
      }
     ],
     "prompt_number": 19
    },
    {
     "cell_type": "markdown",
     "metadata": {},
     "source": [
      "Much better! Looks snowy as expected :)"
     ]
    },
    {
     "cell_type": "code",
     "collapsed": false,
     "input": [],
     "language": "python",
     "metadata": {},
     "outputs": []
    }
   ],
   "metadata": {}
  }
 ]
}